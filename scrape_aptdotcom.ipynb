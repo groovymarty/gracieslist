{
  "nbformat": 4,
  "nbformat_minor": 0,
  "metadata": {
    "colab": {
      "provenance": [],
      "authorship_tag": "ABX9TyMVUqqgsct6RR2Jxr6AFPfl",
      "include_colab_link": true
    },
    "kernelspec": {
      "name": "python3",
      "display_name": "Python 3"
    },
    "language_info": {
      "name": "python"
    }
  },
  "cells": [
    {
      "cell_type": "markdown",
      "metadata": {
        "id": "view-in-github",
        "colab_type": "text"
      },
      "source": [
        "<a href=\"https://colab.research.google.com/github/groovymarty/gracieslist/blob/main/scrape_aptdotcom.ipynb\" target=\"_parent\"><img src=\"https://colab.research.google.com/assets/colab-badge.svg\" alt=\"Open In Colab\"/></a>"
      ]
    },
    {
      "cell_type": "markdown",
      "source": [
        "# Here is the apartments.com scraper!\n"
      ],
      "metadata": {
        "id": "DcvTn3sd_KYO"
      }
    },
    {
      "cell_type": "markdown",
      "source": [
        "## Execute these code blocks once to set things up."
      ],
      "metadata": {
        "id": "9Mqq7pbYAS-t"
      }
    },
    {
      "cell_type": "code",
      "source": [
        "# Here are the imports we need\n",
        "import requests\n",
        "import time\n",
        "import random\n",
        "from bs4 import BeautifulSoup\n",
        "import pandas"
      ],
      "metadata": {
        "id": "2aVhvIIx_fNW"
      },
      "execution_count": 5,
      "outputs": []
    },
    {
      "cell_type": "code",
      "source": [
        "# Functions to build and send requests\n",
        "def build_url(where, page):\n",
        "  if page == 1:\n",
        "    return f\"https://www.apartments.com/{where}/\"\n",
        "  else:\n",
        "    return f\"https://www.apartments.com/{where}/{page}/\"\n",
        "\n",
        "headers = {\"User-Agent\": \"Mozilla/5.0 (Windows NT 10.0; Win64; x64; rv:107.0) Gecko/20100101 Firefox/107.0\"}\n",
        "\n",
        "def send_request(url):\n",
        "  return requests.get(url, headers=headers).text"
      ],
      "metadata": {
        "id": "JBrifiSCAv32"
      },
      "execution_count": 10,
      "outputs": []
    },
    {
      "cell_type": "code",
      "source": [
        "# Functions to process the HTML that comes back from a request\n",
        "# Return array of result rows\n",
        "def process_result(soup):\n",
        "  rows = []\n",
        "  placards = soup.find(id=\"placards\")\n",
        "  properties = placards.find_all(\"div\", class_=\"property-info\")\n",
        "  for prop in properties:\n",
        "    address_div = prop.find(\"div\", class_=\"property-address\")\n",
        "    beds_div = prop.find(\"div\", class_=\"bed-range\")\n",
        "    price_div = prop.find(\"div\", class_=\"price-range\")\n",
        "    if address_div and beds_div and price_div:\n",
        "      address = address_div.get_text()\n",
        "      beds = beds_div.get_text()\n",
        "      price = price_div.get_text()\n",
        "      link = prop.find(\"a\", class_=\"property-link\").get(\"href\")\n",
        "      print(f'found: \"{where}\",\"{address}\",\"{beds}\",\"{price}\"')\n",
        "      rows.append({\n",
        "          \"Where\": where,\n",
        "          \"Address\": address,\n",
        "          \"Beds\": beds,\n",
        "          \"Price\": price,\n",
        "          \"Link\": link\n",
        "      })\n",
        "  return rows\n"
      ],
      "metadata": {
        "id": "3K-cact6Ig1m"
      },
      "execution_count": 25,
      "outputs": []
    },
    {
      "cell_type": "code",
      "source": [
        "# Top-level functions to drive the scraping process\n",
        "def random_delay():\n",
        "  time.sleep(3+random.random()*5)\n",
        "\n",
        "def scrape_all_pages(where):\n",
        "  rows = []\n",
        "  page = 1\n",
        "  while True:\n",
        "    print(\"delaying...\")\n",
        "    random_delay()\n",
        "    print(f\"getting {where} page {page}\")\n",
        "    # send request to site and get result\n",
        "    html_text = send_request(build_url(where, page))\n",
        "    # parse and process result\n",
        "    soup = BeautifulSoup(html_text, \"html.parser\")\n",
        "    rows.extend(process_result(soup))\n",
        "    # pagination logic\n",
        "    page_range = soup.find(\"span\", class_=\"pageRange\")\n",
        "    if page_range:\n",
        "        last_page = int(page_range.get_text().split()[-1])\n",
        "    else:\n",
        "        last_page = 1\n",
        "    if page >= last_page:\n",
        "        break\n",
        "    else:\n",
        "        page += 1\n",
        "  return rows"
      ],
      "metadata": {
        "id": "6G2AOw_hHskF"
      },
      "execution_count": 31,
      "outputs": []
    },
    {
      "cell_type": "markdown",
      "source": [
        "## Below are the parameters.  Edit them as you wish.\n",
        "You must execute this code block at least once, and again when you change any of the the parameter values."
      ],
      "metadata": {
        "id": "YGoBgk9e_rCG"
      }
    },
    {
      "cell_type": "code",
      "source": [
        "places = []\n",
        "places.append(\"wabasha-county-mn\")\n",
        "places.append(\"rochester-mn\")"
      ],
      "metadata": {
        "id": "XGh7Su4gAA1l"
      },
      "execution_count": 44,
      "outputs": []
    },
    {
      "cell_type": "markdown",
      "source": [
        "## This code block creates an empty dataframe to accumulate the results.\n",
        "You must execute this code block at least once.  Run it again if you want to clear the results and start over."
      ],
      "metadata": {
        "id": "PusTipjmQEWG"
      }
    },
    {
      "cell_type": "code",
      "source": [
        "df = pandas.DataFrame(columns=[\"Where\", \"Address\", \"Beds\", \"Price\", \"Link\"])"
      ],
      "metadata": {
        "id": "E4cpj2ieQRZQ"
      },
      "execution_count": 45,
      "outputs": []
    },
    {
      "cell_type": "markdown",
      "source": [
        "## Execute the following code block to scrape the site.\n",
        "It will fully scrape the site according to your parameters, logging messages to show its progress, and adding result rows to the dataframe.  Run as often as you like."
      ],
      "metadata": {
        "id": "iAKqQePWA5eO"
      }
    },
    {
      "cell_type": "code",
      "source": [
        "for where in places:\n",
        "  rows = scrape_all_pages(where)\n",
        "  df = df.append(rows)\n",
        "df.drop_duplicates(inplace=True)\n",
        "print(\"Done!\")"
      ],
      "metadata": {
        "colab": {
          "base_uri": "https://localhost:8080/"
        },
        "id": "cQvY38_SC6bl",
        "outputId": "b535b9df-62dd-4573-f525-a53a2e0ff0c9"
      },
      "execution_count": 46,
      "outputs": [
        {
          "output_type": "stream",
          "name": "stdout",
          "text": [
            "delaying...\n",
            "getting wabasha-county-mn page 1\n",
            "found: \"wabasha-county-mn\",\"524 Phelps Ave Wabasha, MN 55981\",\"3 Beds, 1 Bath\",\"$799 /mo\"\n",
            "delaying...\n",
            "getting rochester-mn page 1\n",
            "delaying...\n",
            "getting rochester-mn page 2\n",
            "delaying...\n",
            "getting rochester-mn page 3\n",
            "delaying...\n",
            "getting rochester-mn page 4\n",
            "found: \"rochester-mn\",\"624 7th Ave SE Rochester, MN 55904\",\"3 Beds, 1 Bath\",\"$1,649 /mo\"\n",
            "found: \"rochester-mn\",\"1105 11th Ave SE Rochester, MN 55904\",\"2 Beds, 1 Bath\",\"$1,600 /mo\"\n",
            "found: \"rochester-mn\",\"1801 3rd St SW Rochester, MN 55902\",\"4 Beds, 2 Baths\",\"$1,600 /mo\"\n",
            "found: \"rochester-mn\",\"4626 35 St NW Rochester, MN 55901\",\"4 Beds, 3 Baths\",\"$2,500 /mo\"\n",
            "found: \"rochester-mn\",\"6339 30th Ave NW Rochester, MN 55901\",\"2 Beds\",\"$1,650\"\n",
            "found: \"rochester-mn\",\"3284 Allison Ln NE Rochester, MN 55906\",\"4 Beds, 2 Baths\",\"$3,350 /mo\"\n",
            "found: \"rochester-mn\",\"3284 Allison Ln NE Rochester, MN 55906\",\"4 Beds, 2 Baths\",\"$3,650 /mo\"\n",
            "found: \"rochester-mn\",\"1816 34th St NW Rochester, MN 55901\",\"1 Bed, 1 Bath\",\"$675 /mo\"\n",
            "found: \"rochester-mn\",\"1301 1st St SW Rochester, MN 55902\",\"Studio\",\"$800\"\n",
            "found: \"rochester-mn\",\"1301 1st St SW Rochester, MN 55902\",\"Studio, 1 Bath\",\"$575 /mo\"\n",
            "found: \"rochester-mn\",\"327 10th Ave NW Byron, MN 55920\",\"3 Beds\",\"$1,800\"\n",
            "found: \"rochester-mn\",\"429 7th St SW Rochester, MN 55902\",\"4 Beds, 2 Baths\",\"$2,600 /mo\"\n",
            "found: \"rochester-mn\",\"210 13th St NW Rochester, MN 55901\",\"1-2 Beds\",\"$899 - 1,099\"\n",
            "found: \"rochester-mn\",\"508 4th St SW Rochester, MN 55902\",\"Studio - 2 Beds\",\"$1,249 - 1,499\"\n",
            "found: \"rochester-mn\",\"807 1st St SW Rochester, MN 55902\",\"2 Beds\",\"$1,599 - 1,699\"\n",
            "found: \"rochester-mn\",\"423 4th St NW Rochester, MN 55901\",\"1-2 Beds\",\"$850 - 1,350\"\n",
            "found: \"rochester-mn\",\"214 16th Ave SW Rochester, MN 55902\",\"1-2 Beds\",\"$1,099 - 1,349\"\n",
            "found: \"rochester-mn\",\"512 4th St SW Rochester, MN 55902\",\"Studio - 1 Bed\",\"$999 - 1,099\"\n",
            "found: \"rochester-mn\",\"224 1st Ave SW Rochester, MN 55902\",\"1-2 Beds\",\"$1,599 - 1,999\"\n",
            "found: \"rochester-mn\",\"1001 1st St SW Rochester, MN 55902\",\"3 Beds, 2 Baths\",\"$1,600 /mo\"\n",
            "found: \"rochester-mn\",\"101 Center E St Rochester, MN 55904\",\"Studio\",\"$775 - 790\"\n",
            "found: \"rochester-mn\",\"855 1st St SW Rochester, MN 55902\",\"Studio - 1 Bed\",\"$850 - 1,000\"\n",
            "delaying...\n",
            "getting rochester-mn page 5\n",
            "found: \"rochester-mn\",\"818 W Center St Rochester, MN 55902\",\"1 Bed\",\"$675\"\n",
            "found: \"rochester-mn\",\"410 6th Ave SW Rochester, MN 55902\",\"2 Beds\",\"$1,325\"\n",
            "found: \"rochester-mn\",\"516 19th St NW Rochester, MN 55901\",\"3 Beds, 1 Bath\",\"$1,595 /mo\"\n",
            "found: \"rochester-mn\",\"2222 18 1/2 Ave NW Rochester, MN 55901\",\"1-2 Beds\",\"$725 - 825\"\n",
            "found: \"rochester-mn\",\"2216 18 1/2 Ave NW Rochester, MN 55901\",\"2 Beds\",\"$850\"\n",
            "found: \"rochester-mn\",\"13 11th Ave NE Rochester, MN 55906\",\"2 Beds\",\"$725\"\n",
            "found: \"rochester-mn\",\"1137 2nd St SW Rochester, MN 55902\",\"1 Bed\",\"$975\"\n",
            "found: \"rochester-mn\",\"1600 Marion Rd SE Rochester, MN 55904\",\"Studio\",\"$790\"\n",
            "found: \"rochester-mn\",\"15 6th Ave SE Rochester, MN 55904\",\"5 Beds, 4.5 Baths\",\"$1,750 /mo\"\n",
            "found: \"rochester-mn\",\"922 1st St SW Rochester, MN 55902\",\"Studio - 2 Beds\",\"$600 - 795\"\n",
            "found: \"rochester-mn\",\"1243 4th Ave SW Rochester, MN 55902\",\"2 Beds\",\"$850\"\n",
            "found: \"rochester-mn\",\"3833 4th Plz NW Rochester, MN 55901\",\"3 Beds, 1 Bath\",\"$1,495 /mo\"\n",
            "found: \"rochester-mn\",\"2330 17th Ave NW Rochester, MN 55901\",\"4 Beds, 2 Baths\",\"$1,650 /mo\"\n",
            "found: \"rochester-mn\",\"515 4th St NW Rochester, MN 55901\",\"3 Beds, 1 Bath\",\"$1,800 /mo\"\n",
            "found: \"rochester-mn\",\"108 16th St SE Rochester, MN 55904\",\"1 Bed\",\"$795 - 850\"\n",
            "found: \"rochester-mn\",\"5510 26th Ave NW Rochester, MN 55901\",\"2 Beds\",\"$1,150\"\n",
            "found: \"rochester-mn\",\"103 Lookout Ln NW Rochester, MN 55901\",\"3 Beds\",\"$1,995\"\n",
            "found: \"rochester-mn\",\"503 2nd St NW Rochester, MN 55901\",\"2 Beds\",\"$1,200\"\n",
            "found: \"rochester-mn\",\"115 16th St NE Rochester, MN 55906\",\"1-2 Beds, 1 Bath\",\"$1,600 - 2,000 /mo\"\n",
            "found: \"rochester-mn\",\"4702 13th Ave NW Rochester, MN 55901\",\"2 Beds, 1.5 Baths\",\"$995 /mo\"\n",
            "found: \"rochester-mn\",\"3073 25th St NW Rochester, MN 55901\",\"3 Beds\",\"$1,550\"\n",
            "found: \"rochester-mn\",\"3065 Brittany Ln NW Rochester, MN 55901\",\"3 Beds\",\"$1,495\"\n",
            "found: \"rochester-mn\",\"327 2nd St NW Byron, MN 55920\",\"3 Beds, 1 Bath\",\"$1,050 /mo\"\n",
            "found: \"rochester-mn\",\"952 12th Ave NE Rochester, MN 55906\",\"3 Beds, 2 Baths\",\"$1,450 /mo\"\n",
            "found: \"rochester-mn\",\"1411 Willow Ln SW Rochester, MN 55902\",\"3 Beds, 2 Baths\",\"$3,300 /mo\"\n",
            "delaying...\n",
            "getting rochester-mn page 6\n",
            "found: \"rochester-mn\",\"1109 8th Ave SW Rochester, MN 55902\",\"4 Beds, 1 Bath\",\"$2,800 /mo\"\n",
            "found: \"rochester-mn\",\"1716 Stone Crest Dr NE Rochester, MN 55906\",\"5 Beds, 3 Baths\",\"$6,000 /mo\"\n",
            "found: \"rochester-mn\",\"862-11 1/2 11 1/2 St SW Rochester, MN 55902\",\"4 Beds, 2 Baths\",\"$4,000 /mo\"\n",
            "found: \"rochester-mn\",\"2218 Granite Cir NW Rochester, MN 55901\",\"4 Beds, 3 Baths\",\"$6,000 /mo\"\n",
            "found: \"rochester-mn\",\"834 1st St NW Rochester, MN 55901\",\"3 Beds, 2 Baths\",\"$3,250 /mo\"\n",
            "found: \"rochester-mn\",\"4023 5th Pl NW Rochester, MN 55901\",\"4 Beds, 2 Baths\",\"$1,800 /mo\"\n",
            "found: \"rochester-mn\",\"212 7th St NW Rochester, MN 55901\",\"1 Bed\",\"$795\"\n",
            "found: \"rochester-mn\",\"2409 24th Ave NW Rochester, MN 55901\",\"3 Beds, 1.5 Baths\",\"$1,650 /mo\"\n",
            "found: \"rochester-mn\",\"71 N River Ct NE Rochester, MN 55906\",\"4 Beds, 3 Baths\",\"$6,000 /mo\"\n",
            "found: \"rochester-mn\",\"839 2nd St SW Rochester, MN 55902\",\"4 Beds, 2 Baths\",\"$1,499 /mo\"\n",
            "found: \"rochester-mn\",\"103 12th Ave NW Rochester, MN 55901\",\"3 Beds, 1 Bath\",\"$1,850 /mo\"\n",
            "found: \"rochester-mn\",\"4425 22nd Ave NW Rochester, MN 55901\",\"4 Beds, 2 Baths\",\"$1,400 /mo\"\n",
            "found: \"rochester-mn\",\"1105 11th Ave SE Rochester, MN 55904\",\"2 Beds, 1 Bath\",\"$1,550 /mo\"\n",
            "found: \"rochester-mn\",\"2826 24th St NW Rochester, MN 55901\",\"2 Beds, 2 Baths\",\"$1,200 /mo\"\n",
            "found: \"rochester-mn\",\"2312 Valleyhigh Dr NW Rochester, MN 55901\",\"2 Beds, 1 Bath\",\"$1,300 /mo\"\n",
            "found: \"rochester-mn\",\"1426 14th Ave NE Rochester, MN 55906\",\"3 Beds, 2 Baths\",\"$1,550 /mo\"\n",
            "found: \"rochester-mn\",\"432 43rd Ave NW Rochester, MN 55901\",\"3 Beds, 2 Baths\",\"$3,250 /mo\"\n",
            "found: \"rochester-mn\",\"612 13th St SE Rochester, MN 55904\",\"2 Beds, 1 Bath\",\"$850 /mo\"\n",
            "found: \"rochester-mn\",\"2852 Monroe Dr NW Rochester, MN 55901\",\"4 Beds, 2 Baths\",\"$2,200 /mo\"\n",
            "found: \"rochester-mn\",\"502 8th St NW Rochester, MN 55901\",\"2 Beds, 1 Bath\",\"$1,200 /mo\"\n",
            "found: \"rochester-mn\",\"1422 1st St SE Rochester, MN 55904\",\"3 Beds, 1.5 Baths\",\"$1,749 /mo\"\n",
            "found: \"rochester-mn\",\"819 2nd St NW Rochester, MN 55901\",\"4 Beds, 2.5 Baths\",\"$1,900 /mo\"\n",
            "found: \"rochester-mn\",\"1804 Fox Valley Dr SW Rochester, MN 55902\",\"3 Beds, 2.5 Baths\",\"$2,400 /mo\"\n",
            "found: \"rochester-mn\",\"801 6th Ave SW Rochester, MN 55902\",\"3 Beds, 2.5 Baths\",\"$2,200 /mo\"\n",
            "found: \"rochester-mn\",\"1801 43rd St NW Rochester, MN 55901\",\"2 Beds, 1 Bath\",\"$1,350 /mo\"\n",
            "delaying...\n",
            "getting rochester-mn page 7\n",
            "found: \"rochester-mn\",\"3647 Ironwood Ct SW Rochester, MN 55902\",\"4 Beds, 3.5 Baths\",\"$2,799 /mo\"\n",
            "found: \"rochester-mn\",\"27 8th St NW Rochester, MN 55901\",\"4 Beds, 2 Baths\",\"$1,700 /mo\"\n",
            "found: \"rochester-mn\",\"15 8th St NW Rochester, MN 55901\",\"3 Beds, 2 Baths\",\"$1,400 /mo\"\n",
            "found: \"rochester-mn\",\"3620 4th Pl NW Rochester, MN 55901\",\"4 Beds, 1.5 Baths\",\"$1,900 /mo\"\n",
            "found: \"rochester-mn\",\"1545 2nd Ave NE Rochester, MN 55906\",\"2 Beds\",\"$795\"\n",
            "found: \"rochester-mn\",\"7229 Genoa Rd NW Byron, MN 55920\",\"4 Beds, 2 Baths\",\"$2,300 /mo\"\n",
            "found: \"rochester-mn\",\"686 Stone Haven Dr NE Byron, MN 55920\",\"2 Beds\",\"$2,000\"\n",
            "Done!\n"
          ]
        }
      ]
    },
    {
      "cell_type": "markdown",
      "source": [
        "## Execute the following block to view the result dataframe."
      ],
      "metadata": {
        "id": "5VmNdUOzQ881"
      }
    },
    {
      "cell_type": "code",
      "source": [
        "df"
      ],
      "metadata": {
        "colab": {
          "base_uri": "https://localhost:8080/",
          "height": 224
        },
        "id": "IaidU8yRL4NG",
        "outputId": "4fff6950-25ba-496b-e7e6-0050c72301c8"
      },
      "execution_count": 47,
      "outputs": [
        {
          "output_type": "execute_result",
          "data": {
            "text/plain": [
              "                Where                                Address  \\\n",
              "0   wabasha-county-mn       524 Phelps Ave Wabasha, MN 55981   \n",
              "0        rochester-mn     624 7th Ave SE Rochester, MN 55904   \n",
              "1        rochester-mn   1105 11th Ave SE Rochester, MN 55904   \n",
              "2        rochester-mn     1801 3rd St SW Rochester, MN 55902   \n",
              "3        rochester-mn      4626 35 St NW Rochester, MN 55901   \n",
              "..                ...                                    ...   \n",
              "74       rochester-mn       15 8th St NW Rochester, MN 55901   \n",
              "75       rochester-mn     3620 4th Pl NW Rochester, MN 55901   \n",
              "76       rochester-mn    1545 2nd Ave NE Rochester, MN 55906   \n",
              "77       rochester-mn       7229 Genoa Rd NW Byron, MN 55920   \n",
              "78       rochester-mn  686 Stone Haven Dr NE Byron, MN 55920   \n",
              "\n",
              "                 Beds       Price  \\\n",
              "0      3 Beds, 1 Bath    $799 /mo   \n",
              "0      3 Beds, 1 Bath  $1,649 /mo   \n",
              "1      2 Beds, 1 Bath  $1,600 /mo   \n",
              "2     4 Beds, 2 Baths  $1,600 /mo   \n",
              "3     4 Beds, 3 Baths  $2,500 /mo   \n",
              "..                ...         ...   \n",
              "74    3 Beds, 2 Baths  $1,400 /mo   \n",
              "75  4 Beds, 1.5 Baths  $1,900 /mo   \n",
              "76             2 Beds        $795   \n",
              "77    4 Beds, 2 Baths  $2,300 /mo   \n",
              "78             2 Beds      $2,000   \n",
              "\n",
              "                                                 Link  \n",
              "0   https://www.apartments.com/524-phelps-ave-waba...  \n",
              "0   https://www.apartments.com/624-7th-ave-se-roch...  \n",
              "1   https://www.apartments.com/1105-11th-ave-se-ro...  \n",
              "2   https://www.apartments.com/1801-3rd-st-sw-roch...  \n",
              "3   https://www.apartments.com/4626-35-st-nw-roche...  \n",
              "..                                                ...  \n",
              "74  https://www.apartments.com/15-8th-st-nw-roches...  \n",
              "75  https://www.apartments.com/3620-4th-pl-nw-roch...  \n",
              "76  https://www.apartments.com/1545-2nd-ave-ne-roc...  \n",
              "77  https://www.apartments.com/4-br-2-bath-house-7...  \n",
              "78  https://www.apartments.com/686-stone-haven-dr-...  \n",
              "\n",
              "[80 rows x 5 columns]"
            ],
            "text/html": [
              "\n",
              "  <div id=\"df-80de46fc-ea25-44a2-a1d2-5688d383c12f\">\n",
              "    <div class=\"colab-df-container\">\n",
              "      <div>\n",
              "<style scoped>\n",
              "    .dataframe tbody tr th:only-of-type {\n",
              "        vertical-align: middle;\n",
              "    }\n",
              "\n",
              "    .dataframe tbody tr th {\n",
              "        vertical-align: top;\n",
              "    }\n",
              "\n",
              "    .dataframe thead th {\n",
              "        text-align: right;\n",
              "    }\n",
              "</style>\n",
              "<table border=\"1\" class=\"dataframe\">\n",
              "  <thead>\n",
              "    <tr style=\"text-align: right;\">\n",
              "      <th></th>\n",
              "      <th>Where</th>\n",
              "      <th>Address</th>\n",
              "      <th>Beds</th>\n",
              "      <th>Price</th>\n",
              "      <th>Link</th>\n",
              "    </tr>\n",
              "  </thead>\n",
              "  <tbody>\n",
              "    <tr>\n",
              "      <th>0</th>\n",
              "      <td>wabasha-county-mn</td>\n",
              "      <td>524 Phelps Ave Wabasha, MN 55981</td>\n",
              "      <td>3 Beds, 1 Bath</td>\n",
              "      <td>$799 /mo</td>\n",
              "      <td>https://www.apartments.com/524-phelps-ave-waba...</td>\n",
              "    </tr>\n",
              "    <tr>\n",
              "      <th>0</th>\n",
              "      <td>rochester-mn</td>\n",
              "      <td>624 7th Ave SE Rochester, MN 55904</td>\n",
              "      <td>3 Beds, 1 Bath</td>\n",
              "      <td>$1,649 /mo</td>\n",
              "      <td>https://www.apartments.com/624-7th-ave-se-roch...</td>\n",
              "    </tr>\n",
              "    <tr>\n",
              "      <th>1</th>\n",
              "      <td>rochester-mn</td>\n",
              "      <td>1105 11th Ave SE Rochester, MN 55904</td>\n",
              "      <td>2 Beds, 1 Bath</td>\n",
              "      <td>$1,600 /mo</td>\n",
              "      <td>https://www.apartments.com/1105-11th-ave-se-ro...</td>\n",
              "    </tr>\n",
              "    <tr>\n",
              "      <th>2</th>\n",
              "      <td>rochester-mn</td>\n",
              "      <td>1801 3rd St SW Rochester, MN 55902</td>\n",
              "      <td>4 Beds, 2 Baths</td>\n",
              "      <td>$1,600 /mo</td>\n",
              "      <td>https://www.apartments.com/1801-3rd-st-sw-roch...</td>\n",
              "    </tr>\n",
              "    <tr>\n",
              "      <th>3</th>\n",
              "      <td>rochester-mn</td>\n",
              "      <td>4626 35 St NW Rochester, MN 55901</td>\n",
              "      <td>4 Beds, 3 Baths</td>\n",
              "      <td>$2,500 /mo</td>\n",
              "      <td>https://www.apartments.com/4626-35-st-nw-roche...</td>\n",
              "    </tr>\n",
              "    <tr>\n",
              "      <th>...</th>\n",
              "      <td>...</td>\n",
              "      <td>...</td>\n",
              "      <td>...</td>\n",
              "      <td>...</td>\n",
              "      <td>...</td>\n",
              "    </tr>\n",
              "    <tr>\n",
              "      <th>74</th>\n",
              "      <td>rochester-mn</td>\n",
              "      <td>15 8th St NW Rochester, MN 55901</td>\n",
              "      <td>3 Beds, 2 Baths</td>\n",
              "      <td>$1,400 /mo</td>\n",
              "      <td>https://www.apartments.com/15-8th-st-nw-roches...</td>\n",
              "    </tr>\n",
              "    <tr>\n",
              "      <th>75</th>\n",
              "      <td>rochester-mn</td>\n",
              "      <td>3620 4th Pl NW Rochester, MN 55901</td>\n",
              "      <td>4 Beds, 1.5 Baths</td>\n",
              "      <td>$1,900 /mo</td>\n",
              "      <td>https://www.apartments.com/3620-4th-pl-nw-roch...</td>\n",
              "    </tr>\n",
              "    <tr>\n",
              "      <th>76</th>\n",
              "      <td>rochester-mn</td>\n",
              "      <td>1545 2nd Ave NE Rochester, MN 55906</td>\n",
              "      <td>2 Beds</td>\n",
              "      <td>$795</td>\n",
              "      <td>https://www.apartments.com/1545-2nd-ave-ne-roc...</td>\n",
              "    </tr>\n",
              "    <tr>\n",
              "      <th>77</th>\n",
              "      <td>rochester-mn</td>\n",
              "      <td>7229 Genoa Rd NW Byron, MN 55920</td>\n",
              "      <td>4 Beds, 2 Baths</td>\n",
              "      <td>$2,300 /mo</td>\n",
              "      <td>https://www.apartments.com/4-br-2-bath-house-7...</td>\n",
              "    </tr>\n",
              "    <tr>\n",
              "      <th>78</th>\n",
              "      <td>rochester-mn</td>\n",
              "      <td>686 Stone Haven Dr NE Byron, MN 55920</td>\n",
              "      <td>2 Beds</td>\n",
              "      <td>$2,000</td>\n",
              "      <td>https://www.apartments.com/686-stone-haven-dr-...</td>\n",
              "    </tr>\n",
              "  </tbody>\n",
              "</table>\n",
              "<p>80 rows × 5 columns</p>\n",
              "</div>\n",
              "      <button class=\"colab-df-convert\" onclick=\"convertToInteractive('df-80de46fc-ea25-44a2-a1d2-5688d383c12f')\"\n",
              "              title=\"Convert this dataframe to an interactive table.\"\n",
              "              style=\"display:none;\">\n",
              "        \n",
              "  <svg xmlns=\"http://www.w3.org/2000/svg\" height=\"24px\"viewBox=\"0 0 24 24\"\n",
              "       width=\"24px\">\n",
              "    <path d=\"M0 0h24v24H0V0z\" fill=\"none\"/>\n",
              "    <path d=\"M18.56 5.44l.94 2.06.94-2.06 2.06-.94-2.06-.94-.94-2.06-.94 2.06-2.06.94zm-11 1L8.5 8.5l.94-2.06 2.06-.94-2.06-.94L8.5 2.5l-.94 2.06-2.06.94zm10 10l.94 2.06.94-2.06 2.06-.94-2.06-.94-.94-2.06-.94 2.06-2.06.94z\"/><path d=\"M17.41 7.96l-1.37-1.37c-.4-.4-.92-.59-1.43-.59-.52 0-1.04.2-1.43.59L10.3 9.45l-7.72 7.72c-.78.78-.78 2.05 0 2.83L4 21.41c.39.39.9.59 1.41.59.51 0 1.02-.2 1.41-.59l7.78-7.78 2.81-2.81c.8-.78.8-2.07 0-2.86zM5.41 20L4 18.59l7.72-7.72 1.47 1.35L5.41 20z\"/>\n",
              "  </svg>\n",
              "      </button>\n",
              "      \n",
              "  <style>\n",
              "    .colab-df-container {\n",
              "      display:flex;\n",
              "      flex-wrap:wrap;\n",
              "      gap: 12px;\n",
              "    }\n",
              "\n",
              "    .colab-df-convert {\n",
              "      background-color: #E8F0FE;\n",
              "      border: none;\n",
              "      border-radius: 50%;\n",
              "      cursor: pointer;\n",
              "      display: none;\n",
              "      fill: #1967D2;\n",
              "      height: 32px;\n",
              "      padding: 0 0 0 0;\n",
              "      width: 32px;\n",
              "    }\n",
              "\n",
              "    .colab-df-convert:hover {\n",
              "      background-color: #E2EBFA;\n",
              "      box-shadow: 0px 1px 2px rgba(60, 64, 67, 0.3), 0px 1px 3px 1px rgba(60, 64, 67, 0.15);\n",
              "      fill: #174EA6;\n",
              "    }\n",
              "\n",
              "    [theme=dark] .colab-df-convert {\n",
              "      background-color: #3B4455;\n",
              "      fill: #D2E3FC;\n",
              "    }\n",
              "\n",
              "    [theme=dark] .colab-df-convert:hover {\n",
              "      background-color: #434B5C;\n",
              "      box-shadow: 0px 1px 3px 1px rgba(0, 0, 0, 0.15);\n",
              "      filter: drop-shadow(0px 1px 2px rgba(0, 0, 0, 0.3));\n",
              "      fill: #FFFFFF;\n",
              "    }\n",
              "  </style>\n",
              "\n",
              "      <script>\n",
              "        const buttonEl =\n",
              "          document.querySelector('#df-80de46fc-ea25-44a2-a1d2-5688d383c12f button.colab-df-convert');\n",
              "        buttonEl.style.display =\n",
              "          google.colab.kernel.accessAllowed ? 'block' : 'none';\n",
              "\n",
              "        async function convertToInteractive(key) {\n",
              "          const element = document.querySelector('#df-80de46fc-ea25-44a2-a1d2-5688d383c12f');\n",
              "          const dataTable =\n",
              "            await google.colab.kernel.invokeFunction('convertToInteractive',\n",
              "                                                     [key], {});\n",
              "          if (!dataTable) return;\n",
              "\n",
              "          const docLinkHtml = 'Like what you see? Visit the ' +\n",
              "            '<a target=\"_blank\" href=https://colab.research.google.com/notebooks/data_table.ipynb>data table notebook</a>'\n",
              "            + ' to learn more about interactive tables.';\n",
              "          element.innerHTML = '';\n",
              "          dataTable['output_type'] = 'display_data';\n",
              "          await google.colab.output.renderOutput(dataTable, element);\n",
              "          const docLink = document.createElement('div');\n",
              "          docLink.innerHTML = docLinkHtml;\n",
              "          element.appendChild(docLink);\n",
              "        }\n",
              "      </script>\n",
              "    </div>\n",
              "  </div>\n",
              "  "
            ]
          },
          "metadata": {},
          "execution_count": 47
        }
      ]
    },
    {
      "cell_type": "markdown",
      "source": [
        "## Execute the following block to save the result dataframe to a CSV file\n",
        "Edit the file name as you wish.  Use the file explorer to the left to find the CSV file.  (Look in the \"content\" folder.)  Then you can download the file if desired.  Note the files in the \"content\" folder will go away when you close the Colab notebook."
      ],
      "metadata": {
        "id": "z7hCV93IRnlE"
      }
    },
    {
      "cell_type": "code",
      "source": [
        "df.to_csv(\"results.csv\")"
      ],
      "metadata": {
        "id": "GcoiATnBRwR1"
      },
      "execution_count": 48,
      "outputs": []
    }
  ]
}