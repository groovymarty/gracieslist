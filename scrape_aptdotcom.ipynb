{
  "nbformat": 4,
  "nbformat_minor": 0,
  "metadata": {
    "colab": {
      "provenance": [],
      "authorship_tag": "ABX9TyMXCrtf1vKYKOmrU+gTNPe3",
      "include_colab_link": true
    },
    "kernelspec": {
      "name": "python3",
      "display_name": "Python 3"
    },
    "language_info": {
      "name": "python"
    }
  },
  "cells": [
    {
      "cell_type": "markdown",
      "metadata": {
        "id": "view-in-github",
        "colab_type": "text"
      },
      "source": [
        "<a href=\"https://colab.research.google.com/github/groovymarty/gracieslist/blob/main/scrape_aptdotcom.ipynb\" target=\"_parent\"><img src=\"https://colab.research.google.com/assets/colab-badge.svg\" alt=\"Open In Colab\"/></a>"
      ]
    },
    {
      "cell_type": "markdown",
      "source": [
        "# Here is the apartments.com scraper!\n",
        "You can use this Colab notebook to execute the scraper as often as you want and accumulate results in a thing called a Pandas dataframe.  Colab has tools to view a dataframe and copy data to the clipboard so you can save it somewhere.  (I also provide some code that will write the dataframe to a CSV file which you can then download.)\n",
        "\n",
        "The easiest way to run the notebook:  From the Runtime menu above, select Run all.  You can also run each code block individually by clicking the \"play\" icon for that code block (black cirle with white triangle inside).\n",
        "\n",
        "The notebook runs in a thing called a runtime.  Colab creates a runtime for each user when they open the notebook.  Variables, like the results dataframe, are part of the runtime.  Files that you write, like the CSV file, are also part of the runtime.\n",
        "\n",
        "Your runtime persists if you close and reopen the notebook, but you should not count on the runtime lasting forever.  So it's important to save any valuable data elsewhere, like on your computer or in a Google sheet.\n",
        "\n",
        "TO DO:\n",
        "* Provide a way to save results to a Google sheet.\n",
        "* Provide a way to append results to a Google sheet or CSV file that you already have."
      ],
      "metadata": {
        "id": "DcvTn3sd_KYO"
      }
    },
    {
      "cell_type": "markdown",
      "source": [
        "## Execute these code blocks once to set things up."
      ],
      "metadata": {
        "id": "9Mqq7pbYAS-t"
      }
    },
    {
      "cell_type": "code",
      "source": [
        "# Here are the imports we need\n",
        "import requests\n",
        "import time\n",
        "import random\n",
        "from bs4 import BeautifulSoup\n",
        "import pandas"
      ],
      "metadata": {
        "id": "2aVhvIIx_fNW"
      },
      "execution_count": 2,
      "outputs": []
    },
    {
      "cell_type": "code",
      "source": [
        "# Functions to build and send requests\n",
        "def build_url(where, page):\n",
        "  if page == 1:\n",
        "    return f\"https://www.apartments.com/{where}/\"\n",
        "  else:\n",
        "    return f\"https://www.apartments.com/{where}/{page}/\"\n",
        "\n",
        "headers = {\"User-Agent\": \"Mozilla/5.0 (Windows NT 10.0; Win64; x64; rv:107.0) Gecko/20100101 Firefox/107.0\"}\n",
        "\n",
        "def send_request(url):\n",
        "  return requests.get(url, headers=headers).text"
      ],
      "metadata": {
        "id": "JBrifiSCAv32"
      },
      "execution_count": 3,
      "outputs": []
    },
    {
      "cell_type": "code",
      "source": [
        "# Functions to process the HTML that comes back from a request\n",
        "# Return array of result rows\n",
        "def process_result(soup):\n",
        "  rows = []\n",
        "  placards = soup.find(id=\"placards\")\n",
        "  properties = placards.find_all(\"div\", class_=\"property-info\")\n",
        "  for prop in properties:\n",
        "    address_div = prop.find(\"div\", class_=\"property-address\")\n",
        "    beds_div = prop.find(\"div\", class_=\"bed-range\")\n",
        "    price_div = prop.find(\"div\", class_=\"price-range\")\n",
        "    if address_div and beds_div and price_div:\n",
        "      address = address_div.get_text()\n",
        "      beds = beds_div.get_text()\n",
        "      price = price_div.get_text()\n",
        "      link = prop.find(\"a\", class_=\"property-link\").get(\"href\")\n",
        "      print(f'found: \"{where}\",\"{address}\",\"{beds}\",\"{price}\"')\n",
        "      rows.append({\n",
        "          \"Where\": where,\n",
        "          \"Address\": address,\n",
        "          \"Beds\": beds,\n",
        "          \"Price\": price,\n",
        "          \"Link\": link\n",
        "      })\n",
        "  return rows\n"
      ],
      "metadata": {
        "id": "3K-cact6Ig1m"
      },
      "execution_count": 4,
      "outputs": []
    },
    {
      "cell_type": "code",
      "source": [
        "# Top-level functions to drive the scraping process\n",
        "def random_delay():\n",
        "  time.sleep(3+random.random()*5)\n",
        "\n",
        "def scrape_all_pages(where):\n",
        "  rows = []\n",
        "  page = 1\n",
        "  while True:\n",
        "    print(\"delaying...\")\n",
        "    random_delay()\n",
        "    print(f\"getting {where} page {page}\")\n",
        "    # send request to site and get result\n",
        "    html_text = send_request(build_url(where, page))\n",
        "    # parse and process result\n",
        "    soup = BeautifulSoup(html_text, \"html.parser\")\n",
        "    rows.extend(process_result(soup))\n",
        "    # pagination logic\n",
        "    page_range = soup.find(\"span\", class_=\"pageRange\")\n",
        "    if page_range:\n",
        "        last_page = int(page_range.get_text().split()[-1])\n",
        "    else:\n",
        "        last_page = 1\n",
        "    if page >= last_page:\n",
        "        break\n",
        "    else:\n",
        "        page += 1\n",
        "  return rows"
      ],
      "metadata": {
        "id": "6G2AOw_hHskF"
      },
      "execution_count": 5,
      "outputs": []
    },
    {
      "cell_type": "markdown",
      "source": [
        "## Below are the parameters.  Edit them as you wish.\n",
        "You must execute this code block at least once, and again when you change any of the the parameter values."
      ],
      "metadata": {
        "id": "YGoBgk9e_rCG"
      }
    },
    {
      "cell_type": "code",
      "source": [
        "places = []\n",
        "places.append(\"wabasha-county-mn\")\n",
        "#places.append(\"rochester-mn\")"
      ],
      "metadata": {
        "id": "XGh7Su4gAA1l"
      },
      "execution_count": 6,
      "outputs": []
    },
    {
      "cell_type": "markdown",
      "source": [
        "## This code block creates an empty dataframe to accumulate the results.\n",
        "You must execute this code block at least once.  Run it again if you want to clear the results and start over."
      ],
      "metadata": {
        "id": "PusTipjmQEWG"
      }
    },
    {
      "cell_type": "code",
      "source": [
        "df = pandas.DataFrame(columns=[\"Where\", \"Address\", \"Beds\", \"Price\", \"Link\"])"
      ],
      "metadata": {
        "id": "E4cpj2ieQRZQ"
      },
      "execution_count": 7,
      "outputs": []
    },
    {
      "cell_type": "markdown",
      "source": [
        "## Execute the following code block to scrape the site.\n",
        "It will fully scrape the site according to your parameters, logging messages to show its progress, and adding result rows to the dataframe.  Run as often as you like."
      ],
      "metadata": {
        "id": "iAKqQePWA5eO"
      }
    },
    {
      "cell_type": "code",
      "source": [
        "for where in places:\n",
        "  rows = scrape_all_pages(where)\n",
        "  df = df.append(rows)\n",
        "df.drop_duplicates(inplace=True)\n",
        "print(\"Done!\")"
      ],
      "metadata": {
        "id": "cQvY38_SC6bl",
        "colab": {
          "base_uri": "https://localhost:8080/"
        },
        "outputId": "fcd261e4-6b39-4069-d76a-b01e060d72f4"
      },
      "execution_count": 8,
      "outputs": [
        {
          "output_type": "stream",
          "name": "stdout",
          "text": [
            "delaying...\n",
            "getting wabasha-county-mn page 1\n",
            "found: \"wabasha-county-mn\",\"106 8th St E Wabasha, MN 55981\",\"2 Beds, 1 Bath\",\"$825 /mo\"\n",
            "Done!\n"
          ]
        }
      ]
    },
    {
      "cell_type": "markdown",
      "source": [
        "## Execute the following block to view the result dataframe."
      ],
      "metadata": {
        "id": "5VmNdUOzQ881"
      }
    },
    {
      "cell_type": "code",
      "source": [
        "df"
      ],
      "metadata": {
        "id": "IaidU8yRL4NG",
        "colab": {
          "base_uri": "https://localhost:8080/",
          "height": 81
        },
        "outputId": "d0d2d48e-104b-4ec8-a7bd-d6cee77eca95"
      },
      "execution_count": 9,
      "outputs": [
        {
          "output_type": "execute_result",
          "data": {
            "text/plain": [
              "               Where                         Address            Beds  \\\n",
              "0  wabasha-county-mn  106 8th St E Wabasha, MN 55981  2 Beds, 1 Bath   \n",
              "\n",
              "      Price                                               Link  \n",
              "0  $825 /mo  https://www.apartments.com/106-8th-st-e-wabash...  "
            ],
            "text/html": [
              "\n",
              "  <div id=\"df-3191e35e-29b7-4fd4-a082-43d123a95d65\">\n",
              "    <div class=\"colab-df-container\">\n",
              "      <div>\n",
              "<style scoped>\n",
              "    .dataframe tbody tr th:only-of-type {\n",
              "        vertical-align: middle;\n",
              "    }\n",
              "\n",
              "    .dataframe tbody tr th {\n",
              "        vertical-align: top;\n",
              "    }\n",
              "\n",
              "    .dataframe thead th {\n",
              "        text-align: right;\n",
              "    }\n",
              "</style>\n",
              "<table border=\"1\" class=\"dataframe\">\n",
              "  <thead>\n",
              "    <tr style=\"text-align: right;\">\n",
              "      <th></th>\n",
              "      <th>Where</th>\n",
              "      <th>Address</th>\n",
              "      <th>Beds</th>\n",
              "      <th>Price</th>\n",
              "      <th>Link</th>\n",
              "    </tr>\n",
              "  </thead>\n",
              "  <tbody>\n",
              "    <tr>\n",
              "      <th>0</th>\n",
              "      <td>wabasha-county-mn</td>\n",
              "      <td>106 8th St E Wabasha, MN 55981</td>\n",
              "      <td>2 Beds, 1 Bath</td>\n",
              "      <td>$825 /mo</td>\n",
              "      <td>https://www.apartments.com/106-8th-st-e-wabash...</td>\n",
              "    </tr>\n",
              "  </tbody>\n",
              "</table>\n",
              "</div>\n",
              "      <button class=\"colab-df-convert\" onclick=\"convertToInteractive('df-3191e35e-29b7-4fd4-a082-43d123a95d65')\"\n",
              "              title=\"Convert this dataframe to an interactive table.\"\n",
              "              style=\"display:none;\">\n",
              "        \n",
              "  <svg xmlns=\"http://www.w3.org/2000/svg\" height=\"24px\"viewBox=\"0 0 24 24\"\n",
              "       width=\"24px\">\n",
              "    <path d=\"M0 0h24v24H0V0z\" fill=\"none\"/>\n",
              "    <path d=\"M18.56 5.44l.94 2.06.94-2.06 2.06-.94-2.06-.94-.94-2.06-.94 2.06-2.06.94zm-11 1L8.5 8.5l.94-2.06 2.06-.94-2.06-.94L8.5 2.5l-.94 2.06-2.06.94zm10 10l.94 2.06.94-2.06 2.06-.94-2.06-.94-.94-2.06-.94 2.06-2.06.94z\"/><path d=\"M17.41 7.96l-1.37-1.37c-.4-.4-.92-.59-1.43-.59-.52 0-1.04.2-1.43.59L10.3 9.45l-7.72 7.72c-.78.78-.78 2.05 0 2.83L4 21.41c.39.39.9.59 1.41.59.51 0 1.02-.2 1.41-.59l7.78-7.78 2.81-2.81c.8-.78.8-2.07 0-2.86zM5.41 20L4 18.59l7.72-7.72 1.47 1.35L5.41 20z\"/>\n",
              "  </svg>\n",
              "      </button>\n",
              "      \n",
              "  <style>\n",
              "    .colab-df-container {\n",
              "      display:flex;\n",
              "      flex-wrap:wrap;\n",
              "      gap: 12px;\n",
              "    }\n",
              "\n",
              "    .colab-df-convert {\n",
              "      background-color: #E8F0FE;\n",
              "      border: none;\n",
              "      border-radius: 50%;\n",
              "      cursor: pointer;\n",
              "      display: none;\n",
              "      fill: #1967D2;\n",
              "      height: 32px;\n",
              "      padding: 0 0 0 0;\n",
              "      width: 32px;\n",
              "    }\n",
              "\n",
              "    .colab-df-convert:hover {\n",
              "      background-color: #E2EBFA;\n",
              "      box-shadow: 0px 1px 2px rgba(60, 64, 67, 0.3), 0px 1px 3px 1px rgba(60, 64, 67, 0.15);\n",
              "      fill: #174EA6;\n",
              "    }\n",
              "\n",
              "    [theme=dark] .colab-df-convert {\n",
              "      background-color: #3B4455;\n",
              "      fill: #D2E3FC;\n",
              "    }\n",
              "\n",
              "    [theme=dark] .colab-df-convert:hover {\n",
              "      background-color: #434B5C;\n",
              "      box-shadow: 0px 1px 3px 1px rgba(0, 0, 0, 0.15);\n",
              "      filter: drop-shadow(0px 1px 2px rgba(0, 0, 0, 0.3));\n",
              "      fill: #FFFFFF;\n",
              "    }\n",
              "  </style>\n",
              "\n",
              "      <script>\n",
              "        const buttonEl =\n",
              "          document.querySelector('#df-3191e35e-29b7-4fd4-a082-43d123a95d65 button.colab-df-convert');\n",
              "        buttonEl.style.display =\n",
              "          google.colab.kernel.accessAllowed ? 'block' : 'none';\n",
              "\n",
              "        async function convertToInteractive(key) {\n",
              "          const element = document.querySelector('#df-3191e35e-29b7-4fd4-a082-43d123a95d65');\n",
              "          const dataTable =\n",
              "            await google.colab.kernel.invokeFunction('convertToInteractive',\n",
              "                                                     [key], {});\n",
              "          if (!dataTable) return;\n",
              "\n",
              "          const docLinkHtml = 'Like what you see? Visit the ' +\n",
              "            '<a target=\"_blank\" href=https://colab.research.google.com/notebooks/data_table.ipynb>data table notebook</a>'\n",
              "            + ' to learn more about interactive tables.';\n",
              "          element.innerHTML = '';\n",
              "          dataTable['output_type'] = 'display_data';\n",
              "          await google.colab.output.renderOutput(dataTable, element);\n",
              "          const docLink = document.createElement('div');\n",
              "          docLink.innerHTML = docLinkHtml;\n",
              "          element.appendChild(docLink);\n",
              "        }\n",
              "      </script>\n",
              "    </div>\n",
              "  </div>\n",
              "  "
            ]
          },
          "metadata": {},
          "execution_count": 9
        }
      ]
    },
    {
      "cell_type": "markdown",
      "source": [
        "## Execute the following block to save the result dataframe to a CSV file\n",
        "Edit the file name as you wish.  Use the file explorer to the left to find the CSV file.  (Look in the \"content\" folder.)  Then you can download the file if desired.  Note the files in the \"content\" folder are part of your runtime so don't assume they will last forever."
      ],
      "metadata": {
        "id": "z7hCV93IRnlE"
      }
    },
    {
      "cell_type": "code",
      "source": [
        "df.to_csv(\"results.csv\")"
      ],
      "metadata": {
        "id": "GcoiATnBRwR1"
      },
      "execution_count": 10,
      "outputs": []
    }
  ]
}